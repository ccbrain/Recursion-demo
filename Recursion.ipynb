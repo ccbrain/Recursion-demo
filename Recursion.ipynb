{
 "cells": [
  {
   "cell_type": "code",
   "execution_count": 9,
   "id": "5d96ca38",
   "metadata": {
    "slideshow": {
     "slide_type": "skip"
    }
   },
   "outputs": [
    {
     "data": {
      "text/html": [
       "<style>.prompt{width: 0px; min-width: 0px; visibility: collapse}</style>"
      ],
      "text/plain": [
       "<IPython.core.display.HTML object>"
      ]
     },
     "metadata": {},
     "output_type": "display_data"
    },
    {
     "data": {
      "text/html": [
       "<style>.output_result { max-width:100% !important; }</style>"
      ],
      "text/plain": [
       "<IPython.core.display.HTML object>"
      ]
     },
     "metadata": {},
     "output_type": "display_data"
    },
    {
     "data": {
      "text/html": [
       "<style>.prompt { display:none !important; }</style>"
      ],
      "text/plain": [
       "<IPython.core.display.HTML object>"
      ]
     },
     "metadata": {},
     "output_type": "display_data"
    }
   ],
   "source": [
    "from IPython.core.display import display,HTML\n",
    "display(HTML('<style>.prompt{width: 0px; min-width: 0px; visibility: collapse}</style>'))\n",
    "display(HTML(\"<style>.output_result { max-width:100% !important; }</style>\"))\n",
    "display(HTML(\"<style>.prompt { display:none !important; }</style>\"))"
   ]
  },
  {
   "cell_type": "markdown",
   "id": "59439ec1",
   "metadata": {
    "slideshow": {
     "slide_type": "slide"
    }
   },
   "source": [
    "<br /><br />\n",
    "<h1><center>Recursion</center></h1>\n",
    "\n",
    "<h3><center>Jiaxiang Zhang</center></h3>\n",
    "\n",
    "<h3><center>Live notebook: <a href=\"http://shorturl.at/cnrB4\">shorturl.at/cnrB4</a></center></h3>\n",
    "<br /><br /><br /><br />\n",
    "<center><img style=\"float;\" src=\"title_fig.png\" width=70%></center>"
   ]
  },
  {
   "cell_type": "markdown",
   "id": "267beb49",
   "metadata": {
    "slideshow": {
     "slide_type": "slide"
    }
   },
   "source": [
    "# Outline\n",
    "\n",
    "- Key concepts – a toy example\n",
    "- More advanced cases\n",
    "- Recursion vs. iteration\n",
    "- Pros and Cons of recursion"
   ]
  },
  {
   "cell_type": "markdown",
   "id": "d6b1eff0",
   "metadata": {
    "slideshow": {
     "slide_type": "slide"
    }
   },
   "source": [
    "\n",
    "# What is recursion?\n",
    "\n",
    "- Stacking dolls with 6 sizes -- how to get the smallest one?<center><img style=\"float;\" src=\"doll2.png\" width=50%></center>"
   ]
  },
  {
   "cell_type": "markdown",
   "id": "b04ae62b",
   "metadata": {
    "slideshow": {
     "slide_type": "slide"
    }
   },
   "source": [
    "\n",
    "# What is recursion?\n",
    "\n",
    "- Stacking dolls with 6 sizes -- how to get the smallest one?<center><img style=\"float;\" src=\"doll3.png\" width=50%></center>"
   ]
  },
  {
   "cell_type": "markdown",
   "id": "d1cc872d",
   "metadata": {
    "slideshow": {
     "slide_type": "slide"
    }
   },
   "source": [
    "\n",
    "# What is recursion?\n",
    "\n",
    "- Stacking dolls with 6 sizes -- how to get the smallest one?<center><img style=\"float;\" src=\"doll4.png\" width=50%></center>"
   ]
  },
  {
   "cell_type": "markdown",
   "id": "bcec85d8",
   "metadata": {
    "slideshow": {
     "slide_type": "slide"
    }
   },
   "source": [
    "\n",
    "# What is recursion?\n",
    "\n",
    "- Stacking dolls with 6 sizes -- how to get the smallest one?<center><img style=\"float;\" src=\"doll5.png\" width=50%></center>\n",
    "\n",
    "\n",
    "- Solve a big problem by solving <u>**smaller or easier**</u> problems of the <u>**same**</u> type"
   ]
  },
  {
   "cell_type": "markdown",
   "id": "a1e75136",
   "metadata": {
    "slideshow": {
     "slide_type": "slide"
    }
   },
   "source": [
    "# How to implement recursion?\n",
    "1. Recursive calls"
   ]
  },
  {
   "cell_type": "code",
   "execution_count": null,
   "id": "3738c293",
   "metadata": {
    "slideshow": {
     "slide_type": "-"
    }
   },
   "outputs": [],
   "source": [
    "def getDoll():\n",
    "  print('Open a doll')  \n",
    "  return getDoll()       # Recursive call\n",
    "\n",
    "getDoll()"
   ]
  },
  {
   "cell_type": "markdown",
   "id": "3320e4a3",
   "metadata": {
    "slideshow": {
     "slide_type": "slide"
    }
   },
   "source": [
    "# How to implement recursion?\n",
    "1. Recursive calls\n",
    "    - Addressing a smaller/simpler problem in each recurvive call"
   ]
  },
  {
   "cell_type": "code",
   "execution_count": null,
   "id": "52f07eca",
   "metadata": {
    "slideshow": {
     "slide_type": "-"
    }
   },
   "outputs": [],
   "source": [
    "def getDoll(n):\n",
    "  print('Open a doll, size =',n) \n",
    "  return getDoll(n-1)       # Recursive call to solve the smaller problem\n",
    "\n",
    "getDoll(6)"
   ]
  },
  {
   "cell_type": "markdown",
   "id": "2ff63028",
   "metadata": {
    "slideshow": {
     "slide_type": "slide"
    }
   },
   "source": [
    "# How to implement recursion?\n",
    "2. Base case (stopping condition)\n",
    "    - The smallest/easiest problem\n",
    "    - The recursive call ends here"
   ]
  },
  {
   "cell_type": "code",
   "execution_count": null,
   "id": "a5c63898",
   "metadata": {
    "slideshow": {
     "slide_type": "-"
    }
   },
   "outputs": [],
   "source": [
    "n=1\n",
    "\n",
    "if (n==1):\n",
    "  print('Found the smallest doll, size =',n)"
   ]
  },
  {
   "cell_type": "markdown",
   "id": "3978f5fe",
   "metadata": {
    "slideshow": {
     "slide_type": "slide"
    }
   },
   "source": [
    "# Recursion = recursive calls + base case(s)\n",
    "<center><img style=\"float;\" src=\"doll5.png\" width=30%></center>"
   ]
  },
  {
   "cell_type": "code",
   "execution_count": null,
   "id": "f810d6c3",
   "metadata": {
    "slideshow": {
     "slide_type": "-"
    }
   },
   "outputs": [],
   "source": [
    "def getDoll(n):\n",
    "  if (n==1):    # Base case\n",
    "    print('Found the smallest doll, size =',n) \n",
    "  else:         \n",
    "    print('Open a doll, size =',n)\n",
    "    return getDoll(n-1)   # Recursive call to solve the smaller problem\n",
    "\n",
    "getDoll(6)"
   ]
  },
  {
   "cell_type": "markdown",
   "id": "3d83062c",
   "metadata": {
    "slideshow": {
     "slide_type": "slide"
    }
   },
   "source": [
    "# Outline\n",
    "\n",
    "- <span style=\"color:silver\">Key concepts – a toy example</span>\n",
    "- More advanced cases\n",
    "    1. Fractional\n",
    "    2. Binary search\n",
    "    3. Tower of Hanoi\n",
    "- <span style=\"color:silver\">Recursion vs. iteration</span>\n",
    "- <span style=\"color:silver\">Pros and cons of recursion</span>"
   ]
  },
  {
   "cell_type": "markdown",
   "id": "a63d314b",
   "metadata": {
    "slideshow": {
     "slide_type": "slide"
    }
   },
   "source": [
    "# Factorial of N\n",
    "\n",
    "### Normal solution\n",
    "<span style=\"color:blue\">\n",
    "\\begin{equation}\n",
    "  N! = f(N) = \n",
    "    \\begin{cases}\n",
    "      1 & \\text{if $N=0$}\\\\\n",
    "      N * \\underline{(N-1) * (N-2) * \\dots * 2 * 1}  & \\text{if $N>0$}\n",
    "    \\end{cases}       \n",
    "\\end{equation}\n",
    "</span>\n",
    "\n",
    "### Recursive solution\n",
    "\n",
    "<span style=\"color:blue\">\n",
    "\\begin{equation}\n",
    "  N! = f(N) =\n",
    "    \\begin{cases}\n",
    "      1 & \\text{if $N=0$, (Base case)}\\\\\n",
    "      N * \\underline{f(N-1)} & \\text{if $N>0$, (Recursive call)}\n",
    "    \\end{cases}       \n",
    "\\end{equation}\n",
    "</span>"
   ]
  },
  {
   "cell_type": "markdown",
   "id": "4c5b8a12",
   "metadata": {
    "slideshow": {
     "slide_type": "slide"
    }
   },
   "source": [
    "# Factorial of N - recursive solution\n"
   ]
  },
  {
   "cell_type": "code",
   "execution_count": null,
   "id": "abfd06e5",
   "metadata": {
    "slideshow": {
     "slide_type": "-"
    }
   },
   "outputs": [],
   "source": [
    "def f(N):\n",
    "  print('calculating the fractorial of',N)\n",
    "  # Base case\n",
    "  if (N==0):\n",
    "    print('Reach the base case')     \n",
    "    return 1\n",
    "  # Recursive call to solve the smaller problem\n",
    "  else:\n",
    "    f_n_1=N * f(N-1)\n",
    "    print('Obtained the fractorial of',N-1)  \n",
    "    return f_n_1\n",
    "\n",
    "N=4; print('The factorial of',N,'is', f(N))"
   ]
  }
 ],
 "metadata": {
  "celltoolbar": "Slideshow",
  "kernelspec": {
   "display_name": "Python 3",
   "language": "python",
   "name": "python3"
  },
  "language_info": {
   "codemirror_mode": {
    "name": "ipython",
    "version": 3
   },
   "file_extension": ".py",
   "mimetype": "text/x-python",
   "name": "python",
   "nbconvert_exporter": "python",
   "pygments_lexer": "ipython3",
   "version": "3.8.8"
  },
  "livereveal": {
   "autolaunch": true,
   "theme": "simple"
  }
 },
 "nbformat": 4,
 "nbformat_minor": 5
}
